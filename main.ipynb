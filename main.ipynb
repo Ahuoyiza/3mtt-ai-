{
 "cells": [
  {
   "cell_type": "markdown",
   "metadata": {},
   "source": [
    "### Python Fundamentals\n",
    "What is python?\n",
    "\n",
    "Concepts we will cover:\n",
    "- Displaying text \n",
    "- Variables and operations\n",
    "- Lists and arrays\n",
    "- if statements and conditions\n",
    "- for and while loops"
   ]
  },
  {
   "cell_type": "code",
   "execution_count": 1,
   "metadata": {},
   "outputs": [
    {
     "name": "stdout",
     "output_type": "stream",
     "text": [
      "Hello World\n"
     ]
    }
   ],
   "source": [
    "# Displaying text:\n",
    "print(\"Hello World\")"
   ]
  },
  {
   "cell_type": "markdown",
   "metadata": {},
   "source": [
    "### Exercise\n",
    "Using only one print() method, try to display two or more lines.\n",
    "\n",
    "Hint: Try using the \\n symbol.\n"
   ]
  },
  {
   "cell_type": "code",
   "execution_count": 4,
   "metadata": {},
   "outputs": [
    {
     "name": "stdout",
     "output_type": "stream",
     "text": [
      "My name is Sophia. \n",
      "I am a girl.\n"
     ]
    }
   ],
   "source": [
    "print(\"My name is Sophia. \\nI am a girl.\")"
   ]
  },
  {
   "cell_type": "markdown",
   "metadata": {},
   "source": [
    "### Variables\n",
    "example syntax:salt = \"salt\""
   ]
  },
  {
   "cell_type": "code",
   "execution_count": 6,
   "metadata": {},
   "outputs": [
    {
     "name": "stdout",
     "output_type": "stream",
     "text": [
      "welcome sophia\n"
     ]
    }
   ],
   "source": [
    "first_name = \"sophia\"\n",
    "last_name = \"abubakar\"\n",
    "location = \"Awka\"\n",
    "age = 57\n",
    "\n",
    "print(\"welcome \" + first_name)\n"
   ]
  },
  {
   "cell_type": "markdown",
   "metadata": {},
   "source": [
    "### Exercise\n",
    "1. Create variables to store information about your favourite book. (e.g author's name, book title, year published etc).\n",
    "2. Print a sentence that tells me about the book using the variables you created."
   ]
  },
  {
   "cell_type": "code",
   "execution_count": 8,
   "metadata": {},
   "outputs": [
    {
     "name": "stdout",
     "output_type": "stream",
     "text": [
      "My favourite book is Fourth Wing\n",
      "It was written by Rebecca Yarros\n",
      " And Published 2023\n"
     ]
    }
   ],
   "source": [
    "book_title = \"Fourth Wing\"\n",
    "author = \"Rebecca Yarros\"\n",
    "year_published = \"2023\"\n",
    "\n",
    "print(\"My favourite book is \" + book_title + \"\\nIt was written by \" + author + \"\\n And Published \" + year_published )"
   ]
  },
  {
   "cell_type": "markdown",
   "metadata": {},
   "source": [
    "## Data types\n",
    "1. string= set of characters in a quote: e.g \"sophia\", '1234', \" \", \"🤗\"\n",
    "2. number type: int and float e.g 1, 0.5, -10, -4.6\n",
    "3. list, tuple, range\n",
    "4. dict (object)"
   ]
  },
  {
   "cell_type": "markdown",
   "metadata": {},
   "source": []
  },
  {
   "cell_type": "code",
   "execution_count": null,
   "metadata": {},
   "outputs": [],
   "source": [
    "#even_numbers : 2,4,6,8,10\n",
    "even_numbers = [2,4,6,8,10] #list\n",
    "new_list =[\"chika\", [1,3,5, [\"none\"], \"ddddd\"]]\n"
   ]
  }
 ],
 "metadata": {
  "kernelspec": {
   "display_name": "Python 3",
   "language": "python",
   "name": "python3"
  },
  "language_info": {
   "codemirror_mode": {
    "name": "ipython",
    "version": 3
   },
   "file_extension": ".py",
   "mimetype": "text/x-python",
   "name": "python",
   "nbconvert_exporter": "python",
   "pygments_lexer": "ipython3",
   "version": "3.12.0"
  }
 },
 "nbformat": 4,
 "nbformat_minor": 2
}
